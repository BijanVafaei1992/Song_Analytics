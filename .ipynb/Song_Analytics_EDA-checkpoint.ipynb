{
 "cells": [
  {
   "cell_type": "code",
   "execution_count": 685,
   "metadata": {},
   "outputs": [],
   "source": [
    "#!/usr/bin/env python\n",
    "\n",
    "'''\n",
    "\n",
    "__author__ = \"Bijan Vafaei\"\n",
    "__copyright__ = \"Copyright 2019\"\n",
    "__credits__ = \n",
    "__license__ = \n",
    "__version__ = \"1.0.2\"\n",
    "__maintainer__ = \n",
    "__email__ = \"bvafaei@epsteinglobal.com\"\n",
    "__status__ = \"Prototype\"\n",
    "\n",
    "'''\n",
    "\n",
    "# Importing required libraries\n",
    "\n",
    "import os\n",
    "import sys\n",
    "import pandas as pd\n",
    "import numpy as np\n",
    "import seaborn as sns\n",
    "import matplotlib.pyplot as plt\n",
    "\n",
    "\n",
    "from scipy import stats\n"
   ]
  },
  {
   "cell_type": "code",
   "execution_count": 873,
   "metadata": {},
   "outputs": [
    {
     "data": {
      "text/html": [
       "<div>\n",
       "<style scoped>\n",
       "    .dataframe tbody tr th:only-of-type {\n",
       "        vertical-align: middle;\n",
       "    }\n",
       "\n",
       "    .dataframe tbody tr th {\n",
       "        vertical-align: top;\n",
       "    }\n",
       "\n",
       "    .dataframe thead th {\n",
       "        text-align: right;\n",
       "    }\n",
       "</style>\n",
       "<table border=\"1\" class=\"dataframe\">\n",
       "  <thead>\n",
       "    <tr style=\"text-align: right;\">\n",
       "      <th></th>\n",
       "      <th>month</th>\n",
       "      <th>position</th>\n",
       "      <th>artist</th>\n",
       "      <th>song</th>\n",
       "      <th>score</th>\n",
       "      <th>us</th>\n",
       "      <th>uk</th>\n",
       "      <th>de</th>\n",
       "      <th>fr</th>\n",
       "      <th>ca</th>\n",
       "      <th>au</th>\n",
       "    </tr>\n",
       "  </thead>\n",
       "  <tbody>\n",
       "    <tr>\n",
       "      <th>0</th>\n",
       "      <td>Jan-00</td>\n",
       "      <td>25</td>\n",
       "      <td>Will Smith</td>\n",
       "      <td>Will 2K</td>\n",
       "      <td>1750.797</td>\n",
       "      <td>57</td>\n",
       "      <td>21</td>\n",
       "      <td>62</td>\n",
       "      <td>32</td>\n",
       "      <td>-</td>\n",
       "      <td>3</td>\n",
       "    </tr>\n",
       "    <tr>\n",
       "      <th>1</th>\n",
       "      <td>Jan-00</td>\n",
       "      <td>11</td>\n",
       "      <td>Whitney Houston</td>\n",
       "      <td>My Love Is Your Love</td>\n",
       "      <td>2772.888</td>\n",
       "      <td>4</td>\n",
       "      <td>-</td>\n",
       "      <td>-</td>\n",
       "      <td>97</td>\n",
       "      <td>-</td>\n",
       "      <td>-</td>\n",
       "    </tr>\n",
       "    <tr>\n",
       "      <th>2</th>\n",
       "      <td>Jan-00</td>\n",
       "      <td>23</td>\n",
       "      <td>Train</td>\n",
       "      <td>Meet Virginia</td>\n",
       "      <td>1838.804</td>\n",
       "      <td>20</td>\n",
       "      <td>-</td>\n",
       "      <td>-</td>\n",
       "      <td>-</td>\n",
       "      <td>-</td>\n",
       "      <td>-</td>\n",
       "    </tr>\n",
       "    <tr>\n",
       "      <th>3</th>\n",
       "      <td>Jan-00</td>\n",
       "      <td>28</td>\n",
       "      <td>TLC</td>\n",
       "      <td>Unpretty</td>\n",
       "      <td>1697.405</td>\n",
       "      <td>25</td>\n",
       "      <td>-</td>\n",
       "      <td>-</td>\n",
       "      <td>-</td>\n",
       "      <td>-</td>\n",
       "      <td>41</td>\n",
       "    </tr>\n",
       "    <tr>\n",
       "      <th>4</th>\n",
       "      <td>Jan-00</td>\n",
       "      <td>43</td>\n",
       "      <td>The Goo Goo Dolls</td>\n",
       "      <td>Black Balloon</td>\n",
       "      <td>1478.309</td>\n",
       "      <td>33</td>\n",
       "      <td>-</td>\n",
       "      <td>-</td>\n",
       "      <td>-</td>\n",
       "      <td>-</td>\n",
       "      <td>-</td>\n",
       "    </tr>\n",
       "    <tr>\n",
       "      <th>5</th>\n",
       "      <td>Jan-00</td>\n",
       "      <td>22</td>\n",
       "      <td>The Foo Fighters</td>\n",
       "      <td>Learn To Fly</td>\n",
       "      <td>1883.219</td>\n",
       "      <td>19</td>\n",
       "      <td>-</td>\n",
       "      <td>-</td>\n",
       "      <td>-</td>\n",
       "      <td>-</td>\n",
       "      <td>48</td>\n",
       "    </tr>\n",
       "    <tr>\n",
       "      <th>6</th>\n",
       "      <td>Jan-00</td>\n",
       "      <td>46</td>\n",
       "      <td>The Dixie Chicks</td>\n",
       "      <td>Cowboy Take Me Away</td>\n",
       "      <td>1428.473</td>\n",
       "      <td>27</td>\n",
       "      <td>-</td>\n",
       "      <td>-</td>\n",
       "      <td>-</td>\n",
       "      <td>-</td>\n",
       "      <td>-</td>\n",
       "    </tr>\n",
       "    <tr>\n",
       "      <th>7</th>\n",
       "      <td>Jan-00</td>\n",
       "      <td>44</td>\n",
       "      <td>The Backstreet Boys</td>\n",
       "      <td>Show Me The Meaning Of Being Lonely</td>\n",
       "      <td>1457.522</td>\n",
       "      <td>16</td>\n",
       "      <td>97</td>\n",
       "      <td>-</td>\n",
       "      <td>-</td>\n",
       "      <td>-</td>\n",
       "      <td>-</td>\n",
       "    </tr>\n",
       "    <tr>\n",
       "      <th>8</th>\n",
       "      <td>Jan-00</td>\n",
       "      <td>39</td>\n",
       "      <td>Sugar Ray</td>\n",
       "      <td>Someday</td>\n",
       "      <td>1557.480</td>\n",
       "      <td>27</td>\n",
       "      <td>-</td>\n",
       "      <td>-</td>\n",
       "      <td>-</td>\n",
       "      <td>-</td>\n",
       "      <td>-</td>\n",
       "    </tr>\n",
       "    <tr>\n",
       "      <th>9</th>\n",
       "      <td>Jan-00</td>\n",
       "      <td>16</td>\n",
       "      <td>Smash Mouth</td>\n",
       "      <td>Then The Morning Comes</td>\n",
       "      <td>2161.426</td>\n",
       "      <td>11</td>\n",
       "      <td>-</td>\n",
       "      <td>-</td>\n",
       "      <td>-</td>\n",
       "      <td>-</td>\n",
       "      <td>-</td>\n",
       "    </tr>\n",
       "  </tbody>\n",
       "</table>\n",
       "</div>"
      ],
      "text/plain": [
       "    month  position               artist                                 song  \\\n",
       "0  Jan-00        25           Will Smith                              Will 2K   \n",
       "1  Jan-00        11      Whitney Houston                 My Love Is Your Love   \n",
       "2  Jan-00        23                Train                        Meet Virginia   \n",
       "3  Jan-00        28                  TLC                             Unpretty   \n",
       "4  Jan-00        43    The Goo Goo Dolls                        Black Balloon   \n",
       "5  Jan-00        22     The Foo Fighters                         Learn To Fly   \n",
       "6  Jan-00        46     The Dixie Chicks                  Cowboy Take Me Away   \n",
       "7  Jan-00        44  The Backstreet Boys  Show Me The Meaning Of Being Lonely   \n",
       "8  Jan-00        39            Sugar Ray                              Someday   \n",
       "9  Jan-00        16          Smash Mouth               Then The Morning Comes   \n",
       "\n",
       "      score  us  uk  de  fr ca  au  \n",
       "0  1750.797  57  21  62  32  -   3  \n",
       "1  2772.888   4   -   -  97  -   -  \n",
       "2  1838.804  20   -   -   -  -   -  \n",
       "3  1697.405  25   -   -   -  -  41  \n",
       "4  1478.309  33   -   -   -  -   -  \n",
       "5  1883.219  19   -   -   -  -  48  \n",
       "6  1428.473  27   -   -   -  -   -  \n",
       "7  1457.522  16  97   -   -  -   -  \n",
       "8  1557.480  27   -   -   -  -   -  \n",
       "9  2161.426  11   -   -   -  -   -  "
      ]
     },
     "execution_count": 873,
     "metadata": {},
     "output_type": "execute_result"
    }
   ],
   "source": [
    "df = pd.DataFrame(data = pd.read_csv('data/chart2000-songmonth-0-3-0054.csv'))\n",
    "df.head(10)"
   ]
  },
  {
   "cell_type": "code",
   "execution_count": null,
   "metadata": {},
   "outputs": [],
   "source": [
    "#functions"
   ]
  },
  {
   "cell_type": "code",
   "execution_count": 775,
   "metadata": {},
   "outputs": [],
   "source": [
    "def unique_value(df, arg):\n",
    "    return df[arg].unique()"
   ]
  },
  {
   "cell_type": "code",
   "execution_count": null,
   "metadata": {},
   "outputs": [],
   "source": [
    "def filter_col(df, cols):\n",
    "    return df.filter( items= cols)"
   ]
  },
  {
   "cell_type": "code",
   "execution_count": null,
   "metadata": {},
   "outputs": [],
   "source": [
    "def filter_value(df,**kwargs):\n",
    "    if kwargs is not None:\n",
    "        filtered_df = df\n",
    "        for key, value in kwargs.items():\n",
    "            filtered_df = filtered_df[filtered_df[key] == value]\n",
    "    return filtered_df"
   ]
  },
  {
   "cell_type": "code",
   "execution_count": 591,
   "metadata": {},
   "outputs": [],
   "source": [
    "def agg(df,groupby_cols,count_cols):\n",
    "    df_agg = df.groupby(groupby_cols)[count_cols].agg(pd.Series.count).reset_index()\n",
    "    return df_agg"
   ]
  },
  {
   "cell_type": "code",
   "execution_count": 7,
   "metadata": {},
   "outputs": [],
   "source": [
    "# Questions"
   ]
  },
  {
   "cell_type": "code",
   "execution_count": 776,
   "metadata": {},
   "outputs": [
    {
     "data": {
      "text/plain": [
       "[1721, 2964]"
      ]
     },
     "execution_count": 776,
     "metadata": {},
     "output_type": "execute_result"
    }
   ],
   "source": [
    "# Q1)\n",
    "# a) How many unique artists are represented in the charts?\n",
    "# b) How many unique songs are represented?\n",
    "\n",
    "def q1(df, *args):\n",
    "    arg_num =     [len(unique_value(df, arg).tolist()) for arg in args ] \n",
    "    return arg_num\n",
    "\n",
    "\n",
    "q1(df, 'artist', 'song')"
   ]
  },
  {
   "cell_type": "code",
   "execution_count": 758,
   "metadata": {},
   "outputs": [
    {
     "data": {
      "text/html": [
       "<div>\n",
       "<style scoped>\n",
       "    .dataframe tbody tr th:only-of-type {\n",
       "        vertical-align: middle;\n",
       "    }\n",
       "\n",
       "    .dataframe tbody tr th {\n",
       "        vertical-align: top;\n",
       "    }\n",
       "\n",
       "    .dataframe thead th {\n",
       "        text-align: right;\n",
       "    }\n",
       "</style>\n",
       "<table border=\"1\" class=\"dataframe\">\n",
       "  <thead>\n",
       "    <tr style=\"text-align: right;\">\n",
       "      <th></th>\n",
       "      <th>song</th>\n",
       "      <th>month</th>\n",
       "      <th>artist</th>\n",
       "      <th>score</th>\n",
       "    </tr>\n",
       "  </thead>\n",
       "  <tbody>\n",
       "    <tr>\n",
       "      <th>2550</th>\n",
       "      <td>Yeah!</td>\n",
       "      <td>Apr 2004</td>\n",
       "      <td>Usher, Lil' Jon &amp; Ludacris</td>\n",
       "      <td>5524.53</td>\n",
       "    </tr>\n",
       "  </tbody>\n",
       "</table>\n",
       "</div>"
      ],
      "text/plain": [
       "       song     month                      artist    score\n",
       "2550  Yeah!  Apr 2004  Usher, Lil' Jon & Ludacris  5524.53"
      ]
     },
     "execution_count": 758,
     "metadata": {},
     "output_type": "execute_result"
    }
   ],
   "source": [
    "# Q2)\n",
    "# a) What song has the highest one-month score of all time?\n",
    "# b) What month was this?\n",
    "# c) Who was the artist?\n",
    "\n",
    "\n",
    "def q2(df):\n",
    "    max_score = df['score'].max()\n",
    "    chart_max_score = filter_value(df, score = max_score)\n",
    "    return filter_col(chart_max_score, ['song','month', 'artist', 'score'])\n",
    "\n",
    "q2(df)"
   ]
  },
  {
   "cell_type": "code",
   "execution_count": 770,
   "metadata": {},
   "outputs": [
    {
     "data": {
      "text/plain": [
       "(10, 8.0, 'Sep 2013')"
      ]
     },
     "execution_count": 770,
     "metadata": {},
     "output_type": "execute_result"
    }
   ],
   "source": [
    "# 3) As I am writing this, I am listening to the song “Safe and Sound” by Capital Cities.\n",
    "# a) How many months was this song on the charts in the United States?\n",
    "# b) What was its peak US chart position?\n",
    "# c) In what month did it achieve this peak US chart position?\n",
    "\n",
    "\n",
    "def q3(df, **kwargs): \n",
    "    fav_song = filter_value(df, **kwargs ).reset_index()\n",
    "    months_on_chart_US = len(fav_song['month'].tolist())\n",
    "    best_position_US = fav_song['us'].astype(float).min()\n",
    "    best_month_US = fav_song.iloc[fav_song['us'].astype(float).idxmin()]['month']\n",
    "    return months_on_chart_US, best_position_US , best_month_US\n",
    "\n",
    "q3(df, song = 'Safe And Sound', artist = 'Capital Cities')"
   ]
  },
  {
   "cell_type": "code",
   "execution_count": 479,
   "metadata": {},
   "outputs": [
    {
     "data": {
      "text/plain": [
       "('Rihanna', 123)"
      ]
     },
     "execution_count": 479,
     "metadata": {},
     "output_type": "execute_result"
    }
   ],
   "source": [
    "# 4)\n",
    "# a) Which artist has spent the most time on the charts as defined by chart-months?\n",
    "# b) How many chart-months have they scored?\n",
    "\n",
    "def q4(df):\n",
    "    agg_df_artist = agg(df, 'artist', 'month')\n",
    "    artist_most_time_on_chart = df_artist_metric['artist'].iloc[df_artist_metric['month'].idxmax()]\n",
    "    most_time_on_chart = df_artist_metric['month'].iloc[df_artist_metric['month'].idxmax()]\n",
    "    return artist_most_time_on_chart , most_time_on_chart"
   ]
  },
  {
   "cell_type": "code",
   "execution_count": 478,
   "metadata": {},
   "outputs": [
    {
     "data": {
      "text/html": [
       "<div>\n",
       "<style scoped>\n",
       "    .dataframe tbody tr th:only-of-type {\n",
       "        vertical-align: middle;\n",
       "    }\n",
       "\n",
       "    .dataframe tbody tr th {\n",
       "        vertical-align: top;\n",
       "    }\n",
       "\n",
       "    .dataframe thead th {\n",
       "        text-align: right;\n",
       "    }\n",
       "</style>\n",
       "<table border=\"1\" class=\"dataframe\">\n",
       "  <thead>\n",
       "    <tr style=\"text-align: right;\">\n",
       "      <th></th>\n",
       "      <th>artist</th>\n",
       "      <th>month</th>\n",
       "    </tr>\n",
       "  </thead>\n",
       "  <tbody>\n",
       "    <tr>\n",
       "      <th>1322</th>\n",
       "      <td>Rihanna</td>\n",
       "      <td>123</td>\n",
       "    </tr>\n",
       "  </tbody>\n",
       "</table>\n",
       "</div>"
      ],
      "text/plain": [
       "       artist  month\n",
       "1322  Rihanna    123"
      ]
     },
     "execution_count": 478,
     "metadata": {},
     "output_type": "execute_result"
    }
   ],
   "source": [
    "#Alternative Solution for Q4\n",
    "agg_df_artist = agg(df, 'artist', 'month')\n",
    "max_num_months = agg_df_artist['month'].max()\n",
    "artist_most_time_on_chart = filter_value(agg_df_artist, month = max_num_months)\n",
    "artist_most_time_on_chart"
   ]
  },
  {
   "cell_type": "code",
   "execution_count": 268,
   "metadata": {},
   "outputs": [
    {
     "data": {
      "text/html": [
       "<div>\n",
       "<style scoped>\n",
       "    .dataframe tbody tr th:only-of-type {\n",
       "        vertical-align: middle;\n",
       "    }\n",
       "\n",
       "    .dataframe tbody tr th {\n",
       "        vertical-align: top;\n",
       "    }\n",
       "\n",
       "    .dataframe thead th {\n",
       "        text-align: right;\n",
       "    }\n",
       "</style>\n",
       "<table border=\"1\" class=\"dataframe\">\n",
       "  <thead>\n",
       "    <tr style=\"text-align: right;\">\n",
       "      <th></th>\n",
       "      <th>artist</th>\n",
       "      <th>month</th>\n",
       "    </tr>\n",
       "  </thead>\n",
       "  <tbody>\n",
       "    <tr>\n",
       "      <th>1322</th>\n",
       "      <td>Rihanna</td>\n",
       "      <td>123</td>\n",
       "    </tr>\n",
       "    <tr>\n",
       "      <th>1501</th>\n",
       "      <td>Taylor Swift</td>\n",
       "      <td>109</td>\n",
       "    </tr>\n",
       "    <tr>\n",
       "      <th>1247</th>\n",
       "      <td>Pink</td>\n",
       "      <td>107</td>\n",
       "    </tr>\n",
       "    <tr>\n",
       "      <th>814</th>\n",
       "      <td>Katy Perry</td>\n",
       "      <td>93</td>\n",
       "    </tr>\n",
       "    <tr>\n",
       "      <th>1516</th>\n",
       "      <td>The Black Eyed Peas</td>\n",
       "      <td>87</td>\n",
       "    </tr>\n",
       "  </tbody>\n",
       "</table>\n",
       "</div>"
      ],
      "text/plain": [
       "                   artist  month\n",
       "1322              Rihanna    123\n",
       "1501         Taylor Swift    109\n",
       "1247                 Pink    107\n",
       "814            Katy Perry     93\n",
       "1516  The Black Eyed Peas     87"
      ]
     },
     "execution_count": 268,
     "metadata": {},
     "output_type": "execute_result"
    }
   ],
   "source": [
    "# More details on top artists who spent most time on the charts\n",
    "df_artist_metric.sort_values('month', ascending = False).head()"
   ]
  },
  {
   "cell_type": "code",
   "execution_count": 778,
   "metadata": {},
   "outputs": [
    {
     "data": {
      "text/plain": [
       "10"
      ]
     },
     "execution_count": 778,
     "metadata": {},
     "output_type": "execute_result"
    }
   ],
   "source": [
    "# 5) How many #1 hits does Drake have in Canada?\n",
    "\n",
    "def q5(df, **kwargs):\n",
    "    return filter_value(df, **kwargs)['month'].count()\n",
    "\n",
    "hit = '1'\n",
    "q5(df, artist = 'Drake', ca = hit)"
   ]
  },
  {
   "cell_type": "code",
   "execution_count": 779,
   "metadata": {},
   "outputs": [
    {
     "data": {
      "text/plain": [
       "['Poker Face',\n",
       " 'LoveGame',\n",
       " 'Paparazzi',\n",
       " 'Alejandro',\n",
       " 'You & I',\n",
       " 'Marry The Night',\n",
       " 'Applause']"
      ]
     },
     "execution_count": 779,
     "metadata": {},
     "output_type": "execute_result"
    }
   ],
   "source": [
    "# 6) Which Lady Gaga song on the list did not chart in Australia?\n",
    "\n",
    "def q6(df, **kwargs):\n",
    "    return list(unique_value(filter_value(df, **kwargs), 'song'))\n",
    "\n",
    "q6(df, artist = 'Lady GaGa', au = '-')"
   ]
  },
  {
   "cell_type": "code",
   "execution_count": 818,
   "metadata": {},
   "outputs": [
    {
     "data": {
      "text/html": [
       "<div>\n",
       "<style scoped>\n",
       "    .dataframe tbody tr th:only-of-type {\n",
       "        vertical-align: middle;\n",
       "    }\n",
       "\n",
       "    .dataframe tbody tr th {\n",
       "        vertical-align: top;\n",
       "    }\n",
       "\n",
       "    .dataframe thead th {\n",
       "        text-align: right;\n",
       "    }\n",
       "</style>\n",
       "<table border=\"1\" class=\"dataframe\">\n",
       "  <thead>\n",
       "    <tr style=\"text-align: right;\">\n",
       "      <th></th>\n",
       "      <th>month</th>\n",
       "      <th>artist</th>\n",
       "      <th>song</th>\n",
       "      <th>us</th>\n",
       "    </tr>\n",
       "  </thead>\n",
       "  <tbody>\n",
       "    <tr>\n",
       "      <th>0</th>\n",
       "      <td>Feb-19</td>\n",
       "      <td>Ariana Grande</td>\n",
       "      <td>7 Rings</td>\n",
       "      <td>1</td>\n",
       "    </tr>\n",
       "    <tr>\n",
       "      <th>2</th>\n",
       "      <td>Feb-19</td>\n",
       "      <td>Ariana Grande</td>\n",
       "      <td>Break Up With Your Girlfriend, I'm</td>\n",
       "      <td>2</td>\n",
       "    </tr>\n",
       "    <tr>\n",
       "      <th>1</th>\n",
       "      <td>Feb-19</td>\n",
       "      <td>Ariana Grande</td>\n",
       "      <td>Thank U, Next</td>\n",
       "      <td>3</td>\n",
       "    </tr>\n",
       "    <tr>\n",
       "      <th>3</th>\n",
       "      <td>Feb-19</td>\n",
       "      <td>Ariana Grande</td>\n",
       "      <td>Breathin</td>\n",
       "      <td>18</td>\n",
       "    </tr>\n",
       "  </tbody>\n",
       "</table>\n",
       "</div>"
      ],
      "text/plain": [
       "    month         artist                                song  us\n",
       "0  Feb-19  Ariana Grande                             7 Rings   1\n",
       "2  Feb-19  Ariana Grande  Break Up With Your Girlfriend, I'm   2\n",
       "1  Feb-19  Ariana Grande                       Thank U, Next   3\n",
       "3  Feb-19  Ariana Grande                            Breathin  18"
      ]
     },
     "execution_count": 818,
     "metadata": {},
     "output_type": "execute_result"
    }
   ],
   "source": [
    "# 7)\n",
    "# a) In what month of her career did Ariana Grande have her highest-ever number of songs\n",
    "# on the charts?\n",
    "# b) In this month, how many songs did she chart?\n",
    "# c) What were these songs ranked in the US, and which was the highest?\n",
    "\n",
    "def q7(df, artist_name):\n",
    "    agg_df_artist_month = agg(filter_value(df, artist = artist_name),'month','song')\n",
    "    max_num_songs = agg_df_artist_month['song'].max()\n",
    "    artist_best_month = filter_value(agg_df_artist_month, song = max_num_songs)['month'].tolist()\n",
    "    artist_metrics = filter_col(filter_value(df , month = artist_best_month[0], artist = artist_name), ['month' , 'artist' , 'song' , 'us']).reset_index(drop=True)\n",
    "    artist_metrics['us'] = artist_metrics['us'].apply(pd.to_numeric)\n",
    "    return artist_metrics.sort_values('us')\n",
    "    \n",
    "artist_name = 'Ariana Grande'\n",
    "q7(df, artist_name)"
   ]
  },
  {
   "cell_type": "code",
   "execution_count": 334,
   "metadata": {},
   "outputs": [
    {
     "data": {
      "text/html": [
       "<div>\n",
       "<style scoped>\n",
       "    .dataframe tbody tr th:only-of-type {\n",
       "        vertical-align: middle;\n",
       "    }\n",
       "\n",
       "    .dataframe tbody tr th {\n",
       "        vertical-align: top;\n",
       "    }\n",
       "\n",
       "    .dataframe thead th {\n",
       "        text-align: right;\n",
       "    }\n",
       "</style>\n",
       "<table border=\"1\" class=\"dataframe\">\n",
       "  <thead>\n",
       "    <tr style=\"text-align: right;\">\n",
       "      <th></th>\n",
       "      <th>month</th>\n",
       "      <th>song</th>\n",
       "    </tr>\n",
       "  </thead>\n",
       "  <tbody>\n",
       "    <tr>\n",
       "      <th>11</th>\n",
       "      <td>Feb 2019</td>\n",
       "      <td>4</td>\n",
       "    </tr>\n",
       "    <tr>\n",
       "      <th>34</th>\n",
       "      <td>Oct 2018</td>\n",
       "      <td>3</td>\n",
       "    </tr>\n",
       "    <tr>\n",
       "      <th>24</th>\n",
       "      <td>Mar 2019</td>\n",
       "      <td>3</td>\n",
       "    </tr>\n",
       "    <tr>\n",
       "      <th>14</th>\n",
       "      <td>Jan 2019</td>\n",
       "      <td>3</td>\n",
       "    </tr>\n",
       "    <tr>\n",
       "      <th>32</th>\n",
       "      <td>Nov 2018</td>\n",
       "      <td>3</td>\n",
       "    </tr>\n",
       "  </tbody>\n",
       "</table>\n",
       "</div>"
      ],
      "text/plain": [
       "       month  song\n",
       "11  Feb 2019     4\n",
       "34  Oct 2018     3\n",
       "24  Mar 2019     3\n",
       "14  Jan 2019     3\n",
       "32  Nov 2018     3"
      ]
     },
     "execution_count": 334,
     "metadata": {},
     "output_type": "execute_result"
    }
   ],
   "source": [
    "# More details on Q7\n",
    "aggregated_artist_metric.sort_values('song', ascending = False).head()"
   ]
  },
  {
   "cell_type": "code",
   "execution_count": 883,
   "metadata": {},
   "outputs": [
    {
     "data": {
      "text/html": [
       "<div>\n",
       "<style scoped>\n",
       "    .dataframe tbody tr th:only-of-type {\n",
       "        vertical-align: middle;\n",
       "    }\n",
       "\n",
       "    .dataframe tbody tr th {\n",
       "        vertical-align: top;\n",
       "    }\n",
       "\n",
       "    .dataframe thead th {\n",
       "        text-align: right;\n",
       "    }\n",
       "</style>\n",
       "<table border=\"1\" class=\"dataframe\">\n",
       "  <thead>\n",
       "    <tr style=\"text-align: right;\">\n",
       "      <th></th>\n",
       "      <th>artist</th>\n",
       "      <th>song</th>\n",
       "    </tr>\n",
       "  </thead>\n",
       "  <tbody>\n",
       "    <tr>\n",
       "      <th>0</th>\n",
       "      <td>Ed Sheeran</td>\n",
       "      <td>11</td>\n",
       "    </tr>\n",
       "    <tr>\n",
       "      <th>1</th>\n",
       "      <td>Taylor Swift</td>\n",
       "      <td>10</td>\n",
       "    </tr>\n",
       "    <tr>\n",
       "      <th>2</th>\n",
       "      <td>One Direction</td>\n",
       "      <td>10</td>\n",
       "    </tr>\n",
       "    <tr>\n",
       "      <th>3</th>\n",
       "      <td>Bruno Mars</td>\n",
       "      <td>8</td>\n",
       "    </tr>\n",
       "    <tr>\n",
       "      <th>4</th>\n",
       "      <td>Drake</td>\n",
       "      <td>8</td>\n",
       "    </tr>\n",
       "    <tr>\n",
       "      <th>5</th>\n",
       "      <td>Rihanna</td>\n",
       "      <td>8</td>\n",
       "    </tr>\n",
       "    <tr>\n",
       "      <th>6</th>\n",
       "      <td>Selena Gomez</td>\n",
       "      <td>7</td>\n",
       "    </tr>\n",
       "    <tr>\n",
       "      <th>7</th>\n",
       "      <td>Maroon 5</td>\n",
       "      <td>7</td>\n",
       "    </tr>\n",
       "    <tr>\n",
       "      <th>8</th>\n",
       "      <td>Florida Georgia Line</td>\n",
       "      <td>7</td>\n",
       "    </tr>\n",
       "    <tr>\n",
       "      <th>9</th>\n",
       "      <td>Avicii</td>\n",
       "      <td>7</td>\n",
       "    </tr>\n",
       "  </tbody>\n",
       "</table>\n",
       "</div>"
      ],
      "text/plain": [
       "                 artist  song\n",
       "0            Ed Sheeran    11\n",
       "1          Taylor Swift    10\n",
       "2         One Direction    10\n",
       "3            Bruno Mars     8\n",
       "4                 Drake     8\n",
       "5               Rihanna     8\n",
       "6          Selena Gomez     7\n",
       "7              Maroon 5     7\n",
       "8  Florida Georgia Line     7\n",
       "9                Avicii     7"
      ]
     },
     "execution_count": 883,
     "metadata": {},
     "output_type": "execute_result"
    }
   ],
   "source": [
    "# 8)\n",
    "# a) Which ten artists had the most unique songs make the charts between 2013 and 2017?\n",
    "# b) Make a bar graph that includes each artist and how many songs they charted. Please\n",
    "# label, title, and color your graph appropriately.\n",
    "\n",
    "def q8(df, start_date, end_date):\n",
    "    df_filtered = filter_col(df, ['month', 'song', 'artist'])\n",
    "    df_filtered['month'] = pd.to_datetime(df_filtered['month'], format = '%b-%y')\n",
    "    mask = (df_filtered['month'] >= start_date) & (df_filtered['month'] <= end_date)\n",
    "    df_yr = df_filtered[ mask ]\n",
    "    df_yr_agg = df_yr.groupby(['artist']).agg('nunique').sort_values('song', ascending = False)['song'].to_frame().reset_index().head(10)\n",
    "    return df_yr_agg\n",
    "\n",
    "\n",
    "start_date = 'Jan 2013'\n",
    "end_date = 'Dec 2017'\n",
    "q8(df, start_date, end_date)\n",
    "    "
   ]
  },
  {
   "cell_type": "code",
   "execution_count": null,
   "metadata": {
    "scrolled": false
   },
   "outputs": [],
   "source": []
  },
  {
   "cell_type": "code",
   "execution_count": 898,
   "metadata": {},
   "outputs": [],
   "source": [
    "def q8_plot(df, graph_title, *args):\n",
    "    #Creating Bar Graph\n",
    "    sns.set(style=\"whitegrid\")\n",
    "\n",
    "    # Initialize the matplotlib figure\n",
    "    f, ax = plt.subplots(figsize=(20, 15))\n",
    "    sns.set_context(\"notebook\", font_scale=1.5, rc={\"lines.linewidth\": 2.5})\n",
    "    ax = sns.barplot(x = args[0] , y = args[1] , data = df , label = \"Number of Songs\", palette=\"Blues_r\", color=\"b\" , saturation=0.8)\n",
    "    ax.set_title(graph_title)\n",
    "    ax.set(xlabel='Name of Artist', ylabel='No. of Unique Songs')\n",
    "\n",
    "    # Add a legend and informative axis label\n",
    "    ax.legend(ncol=2, loc=\"upper right\", frameon=True)\n",
    "    sns.despine(left=True, bottom=True)\n",
    "    return plt.show()\n",
    "\n",
    "\n",
    "graph_title = \"Top Ten Artists with the Most Number of Unique Songs on Charts ({date})\".format(date = str(start_date)  + ' to ' + str(end_date)) \n",
    "q8_plot(df_yr_agg, graph_title, 'artist', 'song')"
   ]
  },
  {
   "cell_type": "code",
   "execution_count": 899,
   "metadata": {},
   "outputs": [
    {
     "data": {
      "image/png": "[encoded data removed]",
      "text/plain": [
       "<Figure size 1440x1080 with 1 Axes>"
      ]
     },
     "metadata": {},
     "output_type": "display_data"
    }
   ],
   "source": []
  },
  {
   "cell_type": "code",
   "execution_count": null,
   "metadata": {},
   "outputs": [],
   "source": []
  },
  {
   "cell_type": "code",
   "execution_count": null,
   "metadata": {},
   "outputs": [],
   "source": []
  }
 ],
 "metadata": {
  "kernelspec": {
   "display_name": "Python 3",
   "language": "python",
   "name": "python3"
  },
  "language_info": {
   "codemirror_mode": {
    "name": "ipython",
    "version": 3
   },
   "file_extension": ".py",
   "mimetype": "text/x-python",
   "name": "python",
   "nbconvert_exporter": "python",
   "pygments_lexer": "ipython3",
   "version": "3.7.1"
  }
 },
 "nbformat": 4,
 "nbformat_minor": 2
}
